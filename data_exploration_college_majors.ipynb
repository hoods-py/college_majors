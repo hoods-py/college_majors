{
 "cells": [
  {
   "cell_type": "code",
   "execution_count": 1,
   "metadata": {
    "collapsed": true,
    "ExecuteTime": {
     "end_time": "2023-06-27T16:46:19.180103311Z",
     "start_time": "2023-06-27T16:46:18.945731799Z"
    }
   },
   "outputs": [
    {
     "data": {
      "text/plain": "     Undergraduate Major  Starting Median Salary  Mid-Career Median Salary  \\\n0             Accounting                 46000.0                   77100.0   \n1  Aerospace Engineering                 57700.0                  101000.0   \n2            Agriculture                 42600.0                   71900.0   \n3           Anthropology                 36800.0                   61500.0   \n4           Architecture                 41600.0                   76800.0   \n\n   Mid-Career 10th Percentile Salary  Mid-Career 90th Percentile Salary  \\\n0                            42200.0                           152000.0   \n1                            64300.0                           161000.0   \n2                            36300.0                           150000.0   \n3                            33800.0                           138000.0   \n4                            50600.0                           136000.0   \n\n      Group  \n0  Business  \n1      STEM  \n2  Business  \n3      HASS  \n4  Business  ",
      "text/html": "<div>\n<style scoped>\n    .dataframe tbody tr th:only-of-type {\n        vertical-align: middle;\n    }\n\n    .dataframe tbody tr th {\n        vertical-align: top;\n    }\n\n    .dataframe thead th {\n        text-align: right;\n    }\n</style>\n<table border=\"1\" class=\"dataframe\">\n  <thead>\n    <tr style=\"text-align: right;\">\n      <th></th>\n      <th>Undergraduate Major</th>\n      <th>Starting Median Salary</th>\n      <th>Mid-Career Median Salary</th>\n      <th>Mid-Career 10th Percentile Salary</th>\n      <th>Mid-Career 90th Percentile Salary</th>\n      <th>Group</th>\n    </tr>\n  </thead>\n  <tbody>\n    <tr>\n      <th>0</th>\n      <td>Accounting</td>\n      <td>46000.0</td>\n      <td>77100.0</td>\n      <td>42200.0</td>\n      <td>152000.0</td>\n      <td>Business</td>\n    </tr>\n    <tr>\n      <th>1</th>\n      <td>Aerospace Engineering</td>\n      <td>57700.0</td>\n      <td>101000.0</td>\n      <td>64300.0</td>\n      <td>161000.0</td>\n      <td>STEM</td>\n    </tr>\n    <tr>\n      <th>2</th>\n      <td>Agriculture</td>\n      <td>42600.0</td>\n      <td>71900.0</td>\n      <td>36300.0</td>\n      <td>150000.0</td>\n      <td>Business</td>\n    </tr>\n    <tr>\n      <th>3</th>\n      <td>Anthropology</td>\n      <td>36800.0</td>\n      <td>61500.0</td>\n      <td>33800.0</td>\n      <td>138000.0</td>\n      <td>HASS</td>\n    </tr>\n    <tr>\n      <th>4</th>\n      <td>Architecture</td>\n      <td>41600.0</td>\n      <td>76800.0</td>\n      <td>50600.0</td>\n      <td>136000.0</td>\n      <td>Business</td>\n    </tr>\n  </tbody>\n</table>\n</div>"
     },
     "execution_count": 1,
     "metadata": {},
     "output_type": "execute_result"
    }
   ],
   "source": [
    "import pandas as pd\n",
    "df = pd.read_csv('salaries_by_college_major.csv')\n",
    "df.head()"
   ]
  },
  {
   "cell_type": "code",
   "execution_count": 2,
   "outputs": [
    {
     "data": {
      "text/plain": "(51, 6)"
     },
     "execution_count": 2,
     "metadata": {},
     "output_type": "execute_result"
    }
   ],
   "source": [
    "df.shape"
   ],
   "metadata": {
    "collapsed": false,
    "ExecuteTime": {
     "end_time": "2023-06-27T16:46:23.198410942Z",
     "start_time": "2023-06-27T16:46:23.187509852Z"
    }
   }
  },
  {
   "cell_type": "code",
   "execution_count": 3,
   "outputs": [
    {
     "data": {
      "text/plain": "Index(['Undergraduate Major', 'Starting Median Salary',\n       'Mid-Career Median Salary', 'Mid-Career 10th Percentile Salary',\n       'Mid-Career 90th Percentile Salary', 'Group'],\n      dtype='object')"
     },
     "execution_count": 3,
     "metadata": {},
     "output_type": "execute_result"
    }
   ],
   "source": [
    "df.columns"
   ],
   "metadata": {
    "collapsed": false,
    "ExecuteTime": {
     "end_time": "2023-06-27T16:46:24.079678408Z",
     "start_time": "2023-06-27T16:46:24.073097700Z"
    }
   }
  },
  {
   "cell_type": "code",
   "execution_count": 4,
   "outputs": [
    {
     "data": {
      "text/plain": "    Undergraduate Major  Starting Median Salary  Mid-Career Median Salary  \\\n0                 False                   False                     False   \n1                 False                   False                     False   \n2                 False                   False                     False   \n3                 False                   False                     False   \n4                 False                   False                     False   \n5                 False                   False                     False   \n6                 False                   False                     False   \n7                 False                   False                     False   \n8                 False                   False                     False   \n9                 False                   False                     False   \n10                False                   False                     False   \n11                False                   False                     False   \n12                False                   False                     False   \n13                False                   False                     False   \n14                False                   False                     False   \n15                False                   False                     False   \n16                False                   False                     False   \n17                False                   False                     False   \n18                False                   False                     False   \n19                False                   False                     False   \n20                False                   False                     False   \n21                False                   False                     False   \n22                False                   False                     False   \n23                False                   False                     False   \n24                False                   False                     False   \n25                False                   False                     False   \n26                False                   False                     False   \n27                False                   False                     False   \n28                False                   False                     False   \n29                False                   False                     False   \n30                False                   False                     False   \n31                False                   False                     False   \n32                False                   False                     False   \n33                False                   False                     False   \n34                False                   False                     False   \n35                False                   False                     False   \n36                False                   False                     False   \n37                False                   False                     False   \n38                False                   False                     False   \n39                False                   False                     False   \n40                False                   False                     False   \n41                False                   False                     False   \n42                False                   False                     False   \n43                False                   False                     False   \n44                False                   False                     False   \n45                False                   False                     False   \n46                False                   False                     False   \n47                False                   False                     False   \n48                False                   False                     False   \n49                False                   False                     False   \n50                False                    True                      True   \n\n    Mid-Career 10th Percentile Salary  Mid-Career 90th Percentile Salary  \\\n0                               False                              False   \n1                               False                              False   \n2                               False                              False   \n3                               False                              False   \n4                               False                              False   \n5                               False                              False   \n6                               False                              False   \n7                               False                              False   \n8                               False                              False   \n9                               False                              False   \n10                              False                              False   \n11                              False                              False   \n12                              False                              False   \n13                              False                              False   \n14                              False                              False   \n15                              False                              False   \n16                              False                              False   \n17                              False                              False   \n18                              False                              False   \n19                              False                              False   \n20                              False                              False   \n21                              False                              False   \n22                              False                              False   \n23                              False                              False   \n24                              False                              False   \n25                              False                              False   \n26                              False                              False   \n27                              False                              False   \n28                              False                              False   \n29                              False                              False   \n30                              False                              False   \n31                              False                              False   \n32                              False                              False   \n33                              False                              False   \n34                              False                              False   \n35                              False                              False   \n36                              False                              False   \n37                              False                              False   \n38                              False                              False   \n39                              False                              False   \n40                              False                              False   \n41                              False                              False   \n42                              False                              False   \n43                              False                              False   \n44                              False                              False   \n45                              False                              False   \n46                              False                              False   \n47                              False                              False   \n48                              False                              False   \n49                              False                              False   \n50                               True                               True   \n\n    Group  \n0   False  \n1   False  \n2   False  \n3   False  \n4   False  \n5   False  \n6   False  \n7   False  \n8   False  \n9   False  \n10  False  \n11  False  \n12  False  \n13  False  \n14  False  \n15  False  \n16  False  \n17  False  \n18  False  \n19  False  \n20  False  \n21  False  \n22  False  \n23  False  \n24  False  \n25  False  \n26  False  \n27  False  \n28  False  \n29  False  \n30  False  \n31  False  \n32  False  \n33  False  \n34  False  \n35  False  \n36  False  \n37  False  \n38  False  \n39  False  \n40  False  \n41  False  \n42  False  \n43  False  \n44  False  \n45  False  \n46  False  \n47  False  \n48  False  \n49  False  \n50   True  ",
      "text/html": "<div>\n<style scoped>\n    .dataframe tbody tr th:only-of-type {\n        vertical-align: middle;\n    }\n\n    .dataframe tbody tr th {\n        vertical-align: top;\n    }\n\n    .dataframe thead th {\n        text-align: right;\n    }\n</style>\n<table border=\"1\" class=\"dataframe\">\n  <thead>\n    <tr style=\"text-align: right;\">\n      <th></th>\n      <th>Undergraduate Major</th>\n      <th>Starting Median Salary</th>\n      <th>Mid-Career Median Salary</th>\n      <th>Mid-Career 10th Percentile Salary</th>\n      <th>Mid-Career 90th Percentile Salary</th>\n      <th>Group</th>\n    </tr>\n  </thead>\n  <tbody>\n    <tr>\n      <th>0</th>\n      <td>False</td>\n      <td>False</td>\n      <td>False</td>\n      <td>False</td>\n      <td>False</td>\n      <td>False</td>\n    </tr>\n    <tr>\n      <th>1</th>\n      <td>False</td>\n      <td>False</td>\n      <td>False</td>\n      <td>False</td>\n      <td>False</td>\n      <td>False</td>\n    </tr>\n    <tr>\n      <th>2</th>\n      <td>False</td>\n      <td>False</td>\n      <td>False</td>\n      <td>False</td>\n      <td>False</td>\n      <td>False</td>\n    </tr>\n    <tr>\n      <th>3</th>\n      <td>False</td>\n      <td>False</td>\n      <td>False</td>\n      <td>False</td>\n      <td>False</td>\n      <td>False</td>\n    </tr>\n    <tr>\n      <th>4</th>\n      <td>False</td>\n      <td>False</td>\n      <td>False</td>\n      <td>False</td>\n      <td>False</td>\n      <td>False</td>\n    </tr>\n    <tr>\n      <th>5</th>\n      <td>False</td>\n      <td>False</td>\n      <td>False</td>\n      <td>False</td>\n      <td>False</td>\n      <td>False</td>\n    </tr>\n    <tr>\n      <th>6</th>\n      <td>False</td>\n      <td>False</td>\n      <td>False</td>\n      <td>False</td>\n      <td>False</td>\n      <td>False</td>\n    </tr>\n    <tr>\n      <th>7</th>\n      <td>False</td>\n      <td>False</td>\n      <td>False</td>\n      <td>False</td>\n      <td>False</td>\n      <td>False</td>\n    </tr>\n    <tr>\n      <th>8</th>\n      <td>False</td>\n      <td>False</td>\n      <td>False</td>\n      <td>False</td>\n      <td>False</td>\n      <td>False</td>\n    </tr>\n    <tr>\n      <th>9</th>\n      <td>False</td>\n      <td>False</td>\n      <td>False</td>\n      <td>False</td>\n      <td>False</td>\n      <td>False</td>\n    </tr>\n    <tr>\n      <th>10</th>\n      <td>False</td>\n      <td>False</td>\n      <td>False</td>\n      <td>False</td>\n      <td>False</td>\n      <td>False</td>\n    </tr>\n    <tr>\n      <th>11</th>\n      <td>False</td>\n      <td>False</td>\n      <td>False</td>\n      <td>False</td>\n      <td>False</td>\n      <td>False</td>\n    </tr>\n    <tr>\n      <th>12</th>\n      <td>False</td>\n      <td>False</td>\n      <td>False</td>\n      <td>False</td>\n      <td>False</td>\n      <td>False</td>\n    </tr>\n    <tr>\n      <th>13</th>\n      <td>False</td>\n      <td>False</td>\n      <td>False</td>\n      <td>False</td>\n      <td>False</td>\n      <td>False</td>\n    </tr>\n    <tr>\n      <th>14</th>\n      <td>False</td>\n      <td>False</td>\n      <td>False</td>\n      <td>False</td>\n      <td>False</td>\n      <td>False</td>\n    </tr>\n    <tr>\n      <th>15</th>\n      <td>False</td>\n      <td>False</td>\n      <td>False</td>\n      <td>False</td>\n      <td>False</td>\n      <td>False</td>\n    </tr>\n    <tr>\n      <th>16</th>\n      <td>False</td>\n      <td>False</td>\n      <td>False</td>\n      <td>False</td>\n      <td>False</td>\n      <td>False</td>\n    </tr>\n    <tr>\n      <th>17</th>\n      <td>False</td>\n      <td>False</td>\n      <td>False</td>\n      <td>False</td>\n      <td>False</td>\n      <td>False</td>\n    </tr>\n    <tr>\n      <th>18</th>\n      <td>False</td>\n      <td>False</td>\n      <td>False</td>\n      <td>False</td>\n      <td>False</td>\n      <td>False</td>\n    </tr>\n    <tr>\n      <th>19</th>\n      <td>False</td>\n      <td>False</td>\n      <td>False</td>\n      <td>False</td>\n      <td>False</td>\n      <td>False</td>\n    </tr>\n    <tr>\n      <th>20</th>\n      <td>False</td>\n      <td>False</td>\n      <td>False</td>\n      <td>False</td>\n      <td>False</td>\n      <td>False</td>\n    </tr>\n    <tr>\n      <th>21</th>\n      <td>False</td>\n      <td>False</td>\n      <td>False</td>\n      <td>False</td>\n      <td>False</td>\n      <td>False</td>\n    </tr>\n    <tr>\n      <th>22</th>\n      <td>False</td>\n      <td>False</td>\n      <td>False</td>\n      <td>False</td>\n      <td>False</td>\n      <td>False</td>\n    </tr>\n    <tr>\n      <th>23</th>\n      <td>False</td>\n      <td>False</td>\n      <td>False</td>\n      <td>False</td>\n      <td>False</td>\n      <td>False</td>\n    </tr>\n    <tr>\n      <th>24</th>\n      <td>False</td>\n      <td>False</td>\n      <td>False</td>\n      <td>False</td>\n      <td>False</td>\n      <td>False</td>\n    </tr>\n    <tr>\n      <th>25</th>\n      <td>False</td>\n      <td>False</td>\n      <td>False</td>\n      <td>False</td>\n      <td>False</td>\n      <td>False</td>\n    </tr>\n    <tr>\n      <th>26</th>\n      <td>False</td>\n      <td>False</td>\n      <td>False</td>\n      <td>False</td>\n      <td>False</td>\n      <td>False</td>\n    </tr>\n    <tr>\n      <th>27</th>\n      <td>False</td>\n      <td>False</td>\n      <td>False</td>\n      <td>False</td>\n      <td>False</td>\n      <td>False</td>\n    </tr>\n    <tr>\n      <th>28</th>\n      <td>False</td>\n      <td>False</td>\n      <td>False</td>\n      <td>False</td>\n      <td>False</td>\n      <td>False</td>\n    </tr>\n    <tr>\n      <th>29</th>\n      <td>False</td>\n      <td>False</td>\n      <td>False</td>\n      <td>False</td>\n      <td>False</td>\n      <td>False</td>\n    </tr>\n    <tr>\n      <th>30</th>\n      <td>False</td>\n      <td>False</td>\n      <td>False</td>\n      <td>False</td>\n      <td>False</td>\n      <td>False</td>\n    </tr>\n    <tr>\n      <th>31</th>\n      <td>False</td>\n      <td>False</td>\n      <td>False</td>\n      <td>False</td>\n      <td>False</td>\n      <td>False</td>\n    </tr>\n    <tr>\n      <th>32</th>\n      <td>False</td>\n      <td>False</td>\n      <td>False</td>\n      <td>False</td>\n      <td>False</td>\n      <td>False</td>\n    </tr>\n    <tr>\n      <th>33</th>\n      <td>False</td>\n      <td>False</td>\n      <td>False</td>\n      <td>False</td>\n      <td>False</td>\n      <td>False</td>\n    </tr>\n    <tr>\n      <th>34</th>\n      <td>False</td>\n      <td>False</td>\n      <td>False</td>\n      <td>False</td>\n      <td>False</td>\n      <td>False</td>\n    </tr>\n    <tr>\n      <th>35</th>\n      <td>False</td>\n      <td>False</td>\n      <td>False</td>\n      <td>False</td>\n      <td>False</td>\n      <td>False</td>\n    </tr>\n    <tr>\n      <th>36</th>\n      <td>False</td>\n      <td>False</td>\n      <td>False</td>\n      <td>False</td>\n      <td>False</td>\n      <td>False</td>\n    </tr>\n    <tr>\n      <th>37</th>\n      <td>False</td>\n      <td>False</td>\n      <td>False</td>\n      <td>False</td>\n      <td>False</td>\n      <td>False</td>\n    </tr>\n    <tr>\n      <th>38</th>\n      <td>False</td>\n      <td>False</td>\n      <td>False</td>\n      <td>False</td>\n      <td>False</td>\n      <td>False</td>\n    </tr>\n    <tr>\n      <th>39</th>\n      <td>False</td>\n      <td>False</td>\n      <td>False</td>\n      <td>False</td>\n      <td>False</td>\n      <td>False</td>\n    </tr>\n    <tr>\n      <th>40</th>\n      <td>False</td>\n      <td>False</td>\n      <td>False</td>\n      <td>False</td>\n      <td>False</td>\n      <td>False</td>\n    </tr>\n    <tr>\n      <th>41</th>\n      <td>False</td>\n      <td>False</td>\n      <td>False</td>\n      <td>False</td>\n      <td>False</td>\n      <td>False</td>\n    </tr>\n    <tr>\n      <th>42</th>\n      <td>False</td>\n      <td>False</td>\n      <td>False</td>\n      <td>False</td>\n      <td>False</td>\n      <td>False</td>\n    </tr>\n    <tr>\n      <th>43</th>\n      <td>False</td>\n      <td>False</td>\n      <td>False</td>\n      <td>False</td>\n      <td>False</td>\n      <td>False</td>\n    </tr>\n    <tr>\n      <th>44</th>\n      <td>False</td>\n      <td>False</td>\n      <td>False</td>\n      <td>False</td>\n      <td>False</td>\n      <td>False</td>\n    </tr>\n    <tr>\n      <th>45</th>\n      <td>False</td>\n      <td>False</td>\n      <td>False</td>\n      <td>False</td>\n      <td>False</td>\n      <td>False</td>\n    </tr>\n    <tr>\n      <th>46</th>\n      <td>False</td>\n      <td>False</td>\n      <td>False</td>\n      <td>False</td>\n      <td>False</td>\n      <td>False</td>\n    </tr>\n    <tr>\n      <th>47</th>\n      <td>False</td>\n      <td>False</td>\n      <td>False</td>\n      <td>False</td>\n      <td>False</td>\n      <td>False</td>\n    </tr>\n    <tr>\n      <th>48</th>\n      <td>False</td>\n      <td>False</td>\n      <td>False</td>\n      <td>False</td>\n      <td>False</td>\n      <td>False</td>\n    </tr>\n    <tr>\n      <th>49</th>\n      <td>False</td>\n      <td>False</td>\n      <td>False</td>\n      <td>False</td>\n      <td>False</td>\n      <td>False</td>\n    </tr>\n    <tr>\n      <th>50</th>\n      <td>False</td>\n      <td>True</td>\n      <td>True</td>\n      <td>True</td>\n      <td>True</td>\n      <td>True</td>\n    </tr>\n  </tbody>\n</table>\n</div>"
     },
     "execution_count": 4,
     "metadata": {},
     "output_type": "execute_result"
    }
   ],
   "source": [
    "df.isna()"
   ],
   "metadata": {
    "collapsed": false,
    "ExecuteTime": {
     "end_time": "2023-06-27T16:46:25.384784380Z",
     "start_time": "2023-06-27T16:46:25.379066330Z"
    }
   }
  },
  {
   "cell_type": "code",
   "execution_count": 5,
   "outputs": [
    {
     "data": {
      "text/plain": "      Undergraduate Major  Starting Median Salary  Mid-Career Median Salary  \\\n46             Psychology                 35900.0                   60400.0   \n47               Religion                 34100.0                   52000.0   \n48              Sociology                 36500.0                   58200.0   \n49                Spanish                 34000.0                   53100.0   \n50  Source: PayScale Inc.                     NaN                       NaN   \n\n    Mid-Career 10th Percentile Salary  Mid-Career 90th Percentile Salary Group  \n46                            31600.0                           127000.0  HASS  \n47                            29700.0                            96400.0  HASS  \n48                            30700.0                           118000.0  HASS  \n49                            31000.0                            96400.0  HASS  \n50                                NaN                                NaN   NaN  ",
      "text/html": "<div>\n<style scoped>\n    .dataframe tbody tr th:only-of-type {\n        vertical-align: middle;\n    }\n\n    .dataframe tbody tr th {\n        vertical-align: top;\n    }\n\n    .dataframe thead th {\n        text-align: right;\n    }\n</style>\n<table border=\"1\" class=\"dataframe\">\n  <thead>\n    <tr style=\"text-align: right;\">\n      <th></th>\n      <th>Undergraduate Major</th>\n      <th>Starting Median Salary</th>\n      <th>Mid-Career Median Salary</th>\n      <th>Mid-Career 10th Percentile Salary</th>\n      <th>Mid-Career 90th Percentile Salary</th>\n      <th>Group</th>\n    </tr>\n  </thead>\n  <tbody>\n    <tr>\n      <th>46</th>\n      <td>Psychology</td>\n      <td>35900.0</td>\n      <td>60400.0</td>\n      <td>31600.0</td>\n      <td>127000.0</td>\n      <td>HASS</td>\n    </tr>\n    <tr>\n      <th>47</th>\n      <td>Religion</td>\n      <td>34100.0</td>\n      <td>52000.0</td>\n      <td>29700.0</td>\n      <td>96400.0</td>\n      <td>HASS</td>\n    </tr>\n    <tr>\n      <th>48</th>\n      <td>Sociology</td>\n      <td>36500.0</td>\n      <td>58200.0</td>\n      <td>30700.0</td>\n      <td>118000.0</td>\n      <td>HASS</td>\n    </tr>\n    <tr>\n      <th>49</th>\n      <td>Spanish</td>\n      <td>34000.0</td>\n      <td>53100.0</td>\n      <td>31000.0</td>\n      <td>96400.0</td>\n      <td>HASS</td>\n    </tr>\n    <tr>\n      <th>50</th>\n      <td>Source: PayScale Inc.</td>\n      <td>NaN</td>\n      <td>NaN</td>\n      <td>NaN</td>\n      <td>NaN</td>\n      <td>NaN</td>\n    </tr>\n  </tbody>\n</table>\n</div>"
     },
     "execution_count": 5,
     "metadata": {},
     "output_type": "execute_result"
    }
   ],
   "source": [
    "df.tail()"
   ],
   "metadata": {
    "collapsed": false,
    "ExecuteTime": {
     "end_time": "2023-06-27T16:46:26.930929133Z",
     "start_time": "2023-06-27T16:46:26.911047014Z"
    }
   }
  },
  {
   "cell_type": "code",
   "execution_count": 6,
   "outputs": [
    {
     "data": {
      "text/plain": "   Undergraduate Major  Starting Median Salary  Mid-Career Median Salary  \\\n45   Political Science                 40800.0                   78200.0   \n46          Psychology                 35900.0                   60400.0   \n47            Religion                 34100.0                   52000.0   \n48           Sociology                 36500.0                   58200.0   \n49             Spanish                 34000.0                   53100.0   \n\n    Mid-Career 10th Percentile Salary  Mid-Career 90th Percentile Salary Group  \n45                            41200.0                           168000.0  HASS  \n46                            31600.0                           127000.0  HASS  \n47                            29700.0                            96400.0  HASS  \n48                            30700.0                           118000.0  HASS  \n49                            31000.0                            96400.0  HASS  ",
      "text/html": "<div>\n<style scoped>\n    .dataframe tbody tr th:only-of-type {\n        vertical-align: middle;\n    }\n\n    .dataframe tbody tr th {\n        vertical-align: top;\n    }\n\n    .dataframe thead th {\n        text-align: right;\n    }\n</style>\n<table border=\"1\" class=\"dataframe\">\n  <thead>\n    <tr style=\"text-align: right;\">\n      <th></th>\n      <th>Undergraduate Major</th>\n      <th>Starting Median Salary</th>\n      <th>Mid-Career Median Salary</th>\n      <th>Mid-Career 10th Percentile Salary</th>\n      <th>Mid-Career 90th Percentile Salary</th>\n      <th>Group</th>\n    </tr>\n  </thead>\n  <tbody>\n    <tr>\n      <th>45</th>\n      <td>Political Science</td>\n      <td>40800.0</td>\n      <td>78200.0</td>\n      <td>41200.0</td>\n      <td>168000.0</td>\n      <td>HASS</td>\n    </tr>\n    <tr>\n      <th>46</th>\n      <td>Psychology</td>\n      <td>35900.0</td>\n      <td>60400.0</td>\n      <td>31600.0</td>\n      <td>127000.0</td>\n      <td>HASS</td>\n    </tr>\n    <tr>\n      <th>47</th>\n      <td>Religion</td>\n      <td>34100.0</td>\n      <td>52000.0</td>\n      <td>29700.0</td>\n      <td>96400.0</td>\n      <td>HASS</td>\n    </tr>\n    <tr>\n      <th>48</th>\n      <td>Sociology</td>\n      <td>36500.0</td>\n      <td>58200.0</td>\n      <td>30700.0</td>\n      <td>118000.0</td>\n      <td>HASS</td>\n    </tr>\n    <tr>\n      <th>49</th>\n      <td>Spanish</td>\n      <td>34000.0</td>\n      <td>53100.0</td>\n      <td>31000.0</td>\n      <td>96400.0</td>\n      <td>HASS</td>\n    </tr>\n  </tbody>\n</table>\n</div>"
     },
     "execution_count": 6,
     "metadata": {},
     "output_type": "execute_result"
    }
   ],
   "source": [
    "clean_df = df.dropna()\n",
    "clean_df.tail()"
   ],
   "metadata": {
    "collapsed": false,
    "ExecuteTime": {
     "end_time": "2023-06-27T16:46:27.987172334Z",
     "start_time": "2023-06-27T16:46:27.984403002Z"
    }
   }
  },
  {
   "cell_type": "code",
   "execution_count": 7,
   "outputs": [
    {
     "data": {
      "text/plain": "0     46000.0\n1     57700.0\n2     42600.0\n3     36800.0\n4     41600.0\n5     35800.0\n6     38800.0\n7     43000.0\n8     63200.0\n9     42600.0\n10    53900.0\n11    38100.0\n12    61400.0\n13    55900.0\n14    53700.0\n15    35000.0\n16    35900.0\n17    50100.0\n18    34900.0\n19    60900.0\n20    38000.0\n21    37900.0\n22    47900.0\n23    39100.0\n24    41200.0\n25    43500.0\n26    35700.0\n27    38800.0\n28    39200.0\n29    37800.0\n30    57700.0\n31    49100.0\n32    36100.0\n33    40900.0\n34    35600.0\n35    49200.0\n36    40800.0\n37    45400.0\n38    57900.0\n39    35900.0\n40    54200.0\n41    39900.0\n42    39900.0\n43    74300.0\n44    50300.0\n45    40800.0\n46    35900.0\n47    34100.0\n48    36500.0\n49    34000.0\nName: Starting Median Salary, dtype: float64"
     },
     "execution_count": 7,
     "metadata": {},
     "output_type": "execute_result"
    }
   ],
   "source": [
    "clean_df['Starting Median Salary']"
   ],
   "metadata": {
    "collapsed": false,
    "ExecuteTime": {
     "end_time": "2023-06-27T16:46:28.971980277Z",
     "start_time": "2023-06-27T16:46:28.964097909Z"
    }
   }
  },
  {
   "cell_type": "code",
   "execution_count": 8,
   "outputs": [
    {
     "data": {
      "text/plain": "74300.0"
     },
     "execution_count": 8,
     "metadata": {},
     "output_type": "execute_result"
    }
   ],
   "source": [
    "clean_df['Starting Median Salary'].max()"
   ],
   "metadata": {
    "collapsed": false,
    "ExecuteTime": {
     "end_time": "2023-06-27T16:46:30.070127567Z",
     "start_time": "2023-06-27T16:46:30.064603194Z"
    }
   }
  },
  {
   "cell_type": "code",
   "execution_count": 9,
   "outputs": [
    {
     "data": {
      "text/plain": "43"
     },
     "execution_count": 9,
     "metadata": {},
     "output_type": "execute_result"
    }
   ],
   "source": [
    "clean_df['Starting Median Salary'].idxmax()\n"
   ],
   "metadata": {
    "collapsed": false,
    "ExecuteTime": {
     "end_time": "2023-06-27T16:46:31.261692614Z",
     "start_time": "2023-06-27T16:46:31.254742144Z"
    }
   }
  },
  {
   "cell_type": "code",
   "execution_count": 10,
   "outputs": [
    {
     "data": {
      "text/plain": "'Physician Assistant'"
     },
     "execution_count": 10,
     "metadata": {},
     "output_type": "execute_result"
    }
   ],
   "source": [
    "clean_df['Undergraduate Major'].loc[43]"
   ],
   "metadata": {
    "collapsed": false,
    "ExecuteTime": {
     "end_time": "2023-06-27T16:46:33.141669779Z",
     "start_time": "2023-06-27T16:46:33.134882283Z"
    }
   }
  },
  {
   "cell_type": "code",
   "execution_count": 11,
   "outputs": [
    {
     "data": {
      "text/plain": "107000.0"
     },
     "execution_count": 11,
     "metadata": {},
     "output_type": "execute_result"
    }
   ],
   "source": [
    "clean_df['Mid-Career Median Salary'].max()"
   ],
   "metadata": {
    "collapsed": false,
    "ExecuteTime": {
     "end_time": "2023-06-27T16:46:34.180525467Z",
     "start_time": "2023-06-27T16:46:34.173769248Z"
    }
   }
  },
  {
   "cell_type": "code",
   "execution_count": 12,
   "outputs": [
    {
     "data": {
      "text/plain": "8"
     },
     "execution_count": 12,
     "metadata": {},
     "output_type": "execute_result"
    }
   ],
   "source": [
    "clean_df['Mid-Career Median Salary'].idxmax()"
   ],
   "metadata": {
    "collapsed": false,
    "ExecuteTime": {
     "end_time": "2023-06-27T16:46:34.876850756Z",
     "start_time": "2023-06-27T16:46:34.871059983Z"
    }
   }
  },
  {
   "cell_type": "code",
   "execution_count": 13,
   "outputs": [
    {
     "data": {
      "text/plain": "107000.0"
     },
     "execution_count": 13,
     "metadata": {},
     "output_type": "execute_result"
    }
   ],
   "source": [
    "clean_df['Mid-Career Median Salary'].loc[8]"
   ],
   "metadata": {
    "collapsed": false,
    "ExecuteTime": {
     "end_time": "2023-06-27T16:46:35.605485943Z",
     "start_time": "2023-06-27T16:46:35.598865092Z"
    }
   }
  },
  {
   "cell_type": "code",
   "execution_count": 14,
   "outputs": [
    {
     "data": {
      "text/plain": "'Chemical Engineering'"
     },
     "execution_count": 14,
     "metadata": {},
     "output_type": "execute_result"
    }
   ],
   "source": [
    "clean_df['Undergraduate Major'][8]"
   ],
   "metadata": {
    "collapsed": false,
    "ExecuteTime": {
     "end_time": "2023-06-27T16:46:40.582816938Z",
     "start_time": "2023-06-27T16:46:40.575041432Z"
    }
   }
  },
  {
   "cell_type": "code",
   "execution_count": null,
   "outputs": [],
   "source": [],
   "metadata": {
    "collapsed": false
   }
  },
  {
   "cell_type": "code",
   "execution_count": 17,
   "outputs": [
    {
     "data": {
      "text/plain": "Undergraduate Major                  Chemical Engineering\nStarting Median Salary                            63200.0\nMid-Career Median Salary                         107000.0\nMid-Career 10th Percentile Salary                 71900.0\nMid-Career 90th Percentile Salary                194000.0\nGroup                                                STEM\nName: 8, dtype: object"
     },
     "execution_count": 17,
     "metadata": {},
     "output_type": "execute_result"
    }
   ],
   "source": [
    "clean_df.loc[8]"
   ],
   "metadata": {
    "collapsed": false,
    "ExecuteTime": {
     "end_time": "2023-06-07T04:40:47.519902221Z",
     "start_time": "2023-06-07T04:40:47.516032903Z"
    }
   }
  },
  {
   "cell_type": "code",
   "execution_count": 18,
   "outputs": [
    {
     "data": {
      "text/plain": "34000.0"
     },
     "execution_count": 18,
     "metadata": {},
     "output_type": "execute_result"
    }
   ],
   "source": [
    "clean_df['Starting Median Salary'].min()"
   ],
   "metadata": {
    "collapsed": false,
    "ExecuteTime": {
     "end_time": "2023-06-07T04:41:39.654709735Z",
     "start_time": "2023-06-07T04:41:39.604319197Z"
    }
   }
  },
  {
   "cell_type": "code",
   "execution_count": 19,
   "outputs": [
    {
     "data": {
      "text/plain": "49"
     },
     "execution_count": 19,
     "metadata": {},
     "output_type": "execute_result"
    }
   ],
   "source": [
    "clean_df['Starting Median Salary'].idxmin()"
   ],
   "metadata": {
    "collapsed": false,
    "ExecuteTime": {
     "end_time": "2023-06-07T04:41:58.954928336Z",
     "start_time": "2023-06-07T04:41:58.914983524Z"
    }
   }
  },
  {
   "cell_type": "code",
   "execution_count": 20,
   "outputs": [
    {
     "data": {
      "text/plain": "Undergraduate Major                  Spanish\nStarting Median Salary               34000.0\nMid-Career Median Salary             53100.0\nMid-Career 10th Percentile Salary    31000.0\nMid-Career 90th Percentile Salary    96400.0\nGroup                                   HASS\nName: 49, dtype: object"
     },
     "execution_count": 20,
     "metadata": {},
     "output_type": "execute_result"
    }
   ],
   "source": [
    "clean_df.loc[49]"
   ],
   "metadata": {
    "collapsed": false,
    "ExecuteTime": {
     "end_time": "2023-06-07T04:42:14.915651763Z",
     "start_time": "2023-06-07T04:42:14.911808621Z"
    }
   }
  },
  {
   "cell_type": "code",
   "execution_count": 22,
   "outputs": [
    {
     "data": {
      "text/plain": "18"
     },
     "execution_count": 22,
     "metadata": {},
     "output_type": "execute_result"
    }
   ],
   "source": [
    "clean_df['Mid-Career Median Salary'].min()\n",
    "clean_df['Mid-Career Median Salary'].idxmin()"
   ],
   "metadata": {
    "collapsed": false,
    "ExecuteTime": {
     "end_time": "2023-06-07T04:43:37.958451938Z",
     "start_time": "2023-06-07T04:43:37.954005673Z"
    }
   }
  },
  {
   "cell_type": "code",
   "execution_count": 23,
   "outputs": [
    {
     "data": {
      "text/plain": "52000.0"
     },
     "execution_count": 23,
     "metadata": {},
     "output_type": "execute_result"
    }
   ],
   "source": [
    "clean_df['Mid-Career Median Salary'].min()"
   ],
   "metadata": {
    "collapsed": false,
    "ExecuteTime": {
     "end_time": "2023-06-07T04:43:48.177140558Z",
     "start_time": "2023-06-07T04:43:48.172803329Z"
    }
   }
  },
  {
   "cell_type": "code",
   "execution_count": 24,
   "outputs": [
    {
     "data": {
      "text/plain": "Undergraduate Major                  Education\nStarting Median Salary                 34900.0\nMid-Career Median Salary               52000.0\nMid-Career 10th Percentile Salary      29300.0\nMid-Career 90th Percentile Salary     102000.0\nGroup                                     HASS\nName: 18, dtype: object"
     },
     "execution_count": 24,
     "metadata": {},
     "output_type": "execute_result"
    }
   ],
   "source": [
    "clean_df.loc[18]"
   ],
   "metadata": {
    "collapsed": false,
    "ExecuteTime": {
     "end_time": "2023-06-07T04:44:01.152129627Z",
     "start_time": "2023-06-07T04:44:01.148396068Z"
    }
   }
  },
  {
   "cell_type": "code",
   "execution_count": 25,
   "outputs": [
    {
     "data": {
      "text/plain": "0     109800.0\n1      96700.0\n2     113700.0\n3     104200.0\n4      85400.0\n5      96200.0\n6      98100.0\n7     108200.0\n8     122100.0\n9     102700.0\n10     84600.0\n11    105500.0\n12     95900.0\n13     98000.0\n14    114700.0\n15     74800.0\n16    116300.0\n17    159400.0\n18     72700.0\n19     98700.0\n20     99600.0\n21    102100.0\n22    147800.0\n23     70000.0\n24     92000.0\n25    111000.0\n26     76000.0\n27     66400.0\n28    112000.0\n29     88500.0\n30    115900.0\n31     84500.0\n32     71300.0\n33    118800.0\n34    106600.0\n35    100700.0\n36    132900.0\n37    137800.0\n38     99300.0\n39    107300.0\n40     50700.0\n41     65300.0\n42    132500.0\n43     57600.0\n44    122000.0\n45    126800.0\n46     95400.0\n47     66700.0\n48     87300.0\n49     65400.0\ndtype: float64"
     },
     "execution_count": 25,
     "metadata": {},
     "output_type": "execute_result"
    }
   ],
   "source": [
    "clean_df['Mid-Career 90th Percentile Salary'] - clean_df['Mid-Career 10th Percentile Salary']"
   ],
   "metadata": {
    "collapsed": false,
    "ExecuteTime": {
     "end_time": "2023-06-07T04:53:22.261032856Z",
     "start_time": "2023-06-07T04:53:22.256044764Z"
    }
   }
  },
  {
   "cell_type": "code",
   "execution_count": 26,
   "outputs": [],
   "source": [
    "b = clean_df['Mid-Career 90th Percentile Salary'] - clean_df['Mid-Career 10th Percentile Salary']"
   ],
   "metadata": {
    "collapsed": false,
    "ExecuteTime": {
     "end_time": "2023-06-07T04:54:16.702751544Z",
     "start_time": "2023-06-07T04:54:16.698353082Z"
    }
   }
  },
  {
   "cell_type": "code",
   "execution_count": 27,
   "outputs": [
    {
     "data": {
      "text/plain": "0     109800.0\n1      96700.0\n2     113700.0\n3     104200.0\n4      85400.0\n5      96200.0\n6      98100.0\n7     108200.0\n8     122100.0\n9     102700.0\n10     84600.0\n11    105500.0\n12     95900.0\n13     98000.0\n14    114700.0\n15     74800.0\n16    116300.0\n17    159400.0\n18     72700.0\n19     98700.0\n20     99600.0\n21    102100.0\n22    147800.0\n23     70000.0\n24     92000.0\n25    111000.0\n26     76000.0\n27     66400.0\n28    112000.0\n29     88500.0\n30    115900.0\n31     84500.0\n32     71300.0\n33    118800.0\n34    106600.0\n35    100700.0\n36    132900.0\n37    137800.0\n38     99300.0\n39    107300.0\n40     50700.0\n41     65300.0\n42    132500.0\n43     57600.0\n44    122000.0\n45    126800.0\n46     95400.0\n47     66700.0\n48     87300.0\n49     65400.0\ndtype: float64"
     },
     "execution_count": 27,
     "metadata": {},
     "output_type": "execute_result"
    }
   ],
   "source": [
    "b"
   ],
   "metadata": {
    "collapsed": false,
    "ExecuteTime": {
     "end_time": "2023-06-07T04:54:21.357561443Z",
     "start_time": "2023-06-07T04:54:21.351988682Z"
    }
   }
  },
  {
   "cell_type": "code",
   "execution_count": 28,
   "outputs": [
    {
     "data": {
      "text/plain": "0     109800.0\n1      96700.0\n2     113700.0\n3     104200.0\n4      85400.0\n5      96200.0\n6      98100.0\n7     108200.0\n8     122100.0\n9     102700.0\n10     84600.0\n11    105500.0\n12     95900.0\n13     98000.0\n14    114700.0\n15     74800.0\n16    116300.0\n17    159400.0\n18     72700.0\n19     98700.0\n20     99600.0\n21    102100.0\n22    147800.0\n23     70000.0\n24     92000.0\n25    111000.0\n26     76000.0\n27     66400.0\n28    112000.0\n29     88500.0\n30    115900.0\n31     84500.0\n32     71300.0\n33    118800.0\n34    106600.0\n35    100700.0\n36    132900.0\n37    137800.0\n38     99300.0\n39    107300.0\n40     50700.0\n41     65300.0\n42    132500.0\n43     57600.0\n44    122000.0\n45    126800.0\n46     95400.0\n47     66700.0\n48     87300.0\n49     65400.0\ndtype: float64"
     },
     "execution_count": 28,
     "metadata": {},
     "output_type": "execute_result"
    }
   ],
   "source": [
    "clean_df['Mid-Career 90th Percentile Salary'].subtract(clean_df['Mid-Career 10th Percentile Salary'])"
   ],
   "metadata": {
    "collapsed": false,
    "ExecuteTime": {
     "end_time": "2023-06-07T04:55:00.937751144Z",
     "start_time": "2023-06-07T04:55:00.922897289Z"
    }
   }
  },
  {
   "cell_type": "code",
   "execution_count": 29,
   "outputs": [
    {
     "data": {
      "text/plain": "     Undergraduate Major    Spread  Starting Median Salary  \\\n0             Accounting  109800.0                 46000.0   \n1  Aerospace Engineering   96700.0                 57700.0   \n2            Agriculture  113700.0                 42600.0   \n3           Anthropology  104200.0                 36800.0   \n4           Architecture   85400.0                 41600.0   \n\n   Mid-Career Median Salary  Mid-Career 10th Percentile Salary  \\\n0                   77100.0                            42200.0   \n1                  101000.0                            64300.0   \n2                   71900.0                            36300.0   \n3                   61500.0                            33800.0   \n4                   76800.0                            50600.0   \n\n   Mid-Career 90th Percentile Salary     Group  \n0                           152000.0  Business  \n1                           161000.0      STEM  \n2                           150000.0  Business  \n3                           138000.0      HASS  \n4                           136000.0  Business  ",
      "text/html": "<div>\n<style scoped>\n    .dataframe tbody tr th:only-of-type {\n        vertical-align: middle;\n    }\n\n    .dataframe tbody tr th {\n        vertical-align: top;\n    }\n\n    .dataframe thead th {\n        text-align: right;\n    }\n</style>\n<table border=\"1\" class=\"dataframe\">\n  <thead>\n    <tr style=\"text-align: right;\">\n      <th></th>\n      <th>Undergraduate Major</th>\n      <th>Spread</th>\n      <th>Starting Median Salary</th>\n      <th>Mid-Career Median Salary</th>\n      <th>Mid-Career 10th Percentile Salary</th>\n      <th>Mid-Career 90th Percentile Salary</th>\n      <th>Group</th>\n    </tr>\n  </thead>\n  <tbody>\n    <tr>\n      <th>0</th>\n      <td>Accounting</td>\n      <td>109800.0</td>\n      <td>46000.0</td>\n      <td>77100.0</td>\n      <td>42200.0</td>\n      <td>152000.0</td>\n      <td>Business</td>\n    </tr>\n    <tr>\n      <th>1</th>\n      <td>Aerospace Engineering</td>\n      <td>96700.0</td>\n      <td>57700.0</td>\n      <td>101000.0</td>\n      <td>64300.0</td>\n      <td>161000.0</td>\n      <td>STEM</td>\n    </tr>\n    <tr>\n      <th>2</th>\n      <td>Agriculture</td>\n      <td>113700.0</td>\n      <td>42600.0</td>\n      <td>71900.0</td>\n      <td>36300.0</td>\n      <td>150000.0</td>\n      <td>Business</td>\n    </tr>\n    <tr>\n      <th>3</th>\n      <td>Anthropology</td>\n      <td>104200.0</td>\n      <td>36800.0</td>\n      <td>61500.0</td>\n      <td>33800.0</td>\n      <td>138000.0</td>\n      <td>HASS</td>\n    </tr>\n    <tr>\n      <th>4</th>\n      <td>Architecture</td>\n      <td>85400.0</td>\n      <td>41600.0</td>\n      <td>76800.0</td>\n      <td>50600.0</td>\n      <td>136000.0</td>\n      <td>Business</td>\n    </tr>\n  </tbody>\n</table>\n</div>"
     },
     "execution_count": 29,
     "metadata": {},
     "output_type": "execute_result"
    }
   ],
   "source": [
    "spread_col = b\n",
    "clean_df.insert(1, 'Spread', spread_col)\n",
    "clean_df.head()"
   ],
   "metadata": {
    "collapsed": false,
    "ExecuteTime": {
     "end_time": "2023-06-07T04:56:22.419051662Z",
     "start_time": "2023-06-07T04:56:22.377738250Z"
    }
   }
  },
  {
   "cell_type": "code",
   "execution_count": 30,
   "outputs": [
    {
     "data": {
      "text/plain": "           Undergraduate Major   Spread\n40                     Nursing  50700.0\n43         Physician Assistant  57600.0\n41                   Nutrition  65300.0\n49                     Spanish  65400.0\n27  Health Care Administration  66400.0",
      "text/html": "<div>\n<style scoped>\n    .dataframe tbody tr th:only-of-type {\n        vertical-align: middle;\n    }\n\n    .dataframe tbody tr th {\n        vertical-align: top;\n    }\n\n    .dataframe thead th {\n        text-align: right;\n    }\n</style>\n<table border=\"1\" class=\"dataframe\">\n  <thead>\n    <tr style=\"text-align: right;\">\n      <th></th>\n      <th>Undergraduate Major</th>\n      <th>Spread</th>\n    </tr>\n  </thead>\n  <tbody>\n    <tr>\n      <th>40</th>\n      <td>Nursing</td>\n      <td>50700.0</td>\n    </tr>\n    <tr>\n      <th>43</th>\n      <td>Physician Assistant</td>\n      <td>57600.0</td>\n    </tr>\n    <tr>\n      <th>41</th>\n      <td>Nutrition</td>\n      <td>65300.0</td>\n    </tr>\n    <tr>\n      <th>49</th>\n      <td>Spanish</td>\n      <td>65400.0</td>\n    </tr>\n    <tr>\n      <th>27</th>\n      <td>Health Care Administration</td>\n      <td>66400.0</td>\n    </tr>\n  </tbody>\n</table>\n</div>"
     },
     "execution_count": 30,
     "metadata": {},
     "output_type": "execute_result"
    }
   ],
   "source": [
    "low_risk = clean_df.sort_values('Spread')\n",
    "low_risk[['Undergraduate Major', 'Spread']].head()"
   ],
   "metadata": {
    "collapsed": false,
    "ExecuteTime": {
     "end_time": "2023-06-07T04:58:04.426946117Z",
     "start_time": "2023-06-07T04:58:04.385646158Z"
    }
   }
  },
  {
   "cell_type": "code",
   "execution_count": 31,
   "outputs": [
    {
     "data": {
      "text/plain": "                     Undergraduate Major    Spread\n40                               Nursing   50700.0\n43                   Physician Assistant   57600.0\n41                             Nutrition   65300.0\n49                               Spanish   65400.0\n27            Health Care Administration   66400.0\n47                              Religion   66700.0\n23                              Forestry   70000.0\n32                       Interior Design   71300.0\n18                             Education   72700.0\n15                      Criminal Justice   74800.0\n26                        Graphic Design   76000.0\n31           Information Technology (IT)   84500.0\n10                     Civil Engineering   84600.0\n4                           Architecture   85400.0\n48                             Sociology   87300.0\n29                 Hospitality & Tourism   88500.0\n24                             Geography   92000.0\n46                            Psychology   95400.0\n12                  Computer Engineering   95900.0\n5                            Art History   96200.0\n1                  Aerospace Engineering   96700.0\n13                      Computer Science   98000.0\n6                                Biology   98100.0\n19                Electrical Engineering   98700.0\n38                Mechanical Engineering   99300.0\n20                               English   99600.0\n35  Management Information Systems (MIS)  100700.0\n21                                  Film  102100.0\n9                              Chemistry  102700.0\n3                           Anthropology  104200.0\n11                        Communications  105500.0\n34                            Journalism  106600.0\n39                                 Music  107300.0\n7                    Business Management  108200.0\n0                             Accounting  109800.0\n25                               Geology  111000.0\n28                               History  112000.0\n2                            Agriculture  113700.0\n14                          Construction  114700.0\n30                Industrial Engineering  115900.0\n16                                 Drama  116300.0\n33               International Relations  118800.0\n44                               Physics  122000.0\n8                   Chemical Engineering  122100.0\n45                     Political Science  126800.0\n42                            Philosophy  132500.0\n36                             Marketing  132900.0\n37                                  Math  137800.0\n22                               Finance  147800.0\n17                             Economics  159400.0",
      "text/html": "<div>\n<style scoped>\n    .dataframe tbody tr th:only-of-type {\n        vertical-align: middle;\n    }\n\n    .dataframe tbody tr th {\n        vertical-align: top;\n    }\n\n    .dataframe thead th {\n        text-align: right;\n    }\n</style>\n<table border=\"1\" class=\"dataframe\">\n  <thead>\n    <tr style=\"text-align: right;\">\n      <th></th>\n      <th>Undergraduate Major</th>\n      <th>Spread</th>\n    </tr>\n  </thead>\n  <tbody>\n    <tr>\n      <th>40</th>\n      <td>Nursing</td>\n      <td>50700.0</td>\n    </tr>\n    <tr>\n      <th>43</th>\n      <td>Physician Assistant</td>\n      <td>57600.0</td>\n    </tr>\n    <tr>\n      <th>41</th>\n      <td>Nutrition</td>\n      <td>65300.0</td>\n    </tr>\n    <tr>\n      <th>49</th>\n      <td>Spanish</td>\n      <td>65400.0</td>\n    </tr>\n    <tr>\n      <th>27</th>\n      <td>Health Care Administration</td>\n      <td>66400.0</td>\n    </tr>\n    <tr>\n      <th>47</th>\n      <td>Religion</td>\n      <td>66700.0</td>\n    </tr>\n    <tr>\n      <th>23</th>\n      <td>Forestry</td>\n      <td>70000.0</td>\n    </tr>\n    <tr>\n      <th>32</th>\n      <td>Interior Design</td>\n      <td>71300.0</td>\n    </tr>\n    <tr>\n      <th>18</th>\n      <td>Education</td>\n      <td>72700.0</td>\n    </tr>\n    <tr>\n      <th>15</th>\n      <td>Criminal Justice</td>\n      <td>74800.0</td>\n    </tr>\n    <tr>\n      <th>26</th>\n      <td>Graphic Design</td>\n      <td>76000.0</td>\n    </tr>\n    <tr>\n      <th>31</th>\n      <td>Information Technology (IT)</td>\n      <td>84500.0</td>\n    </tr>\n    <tr>\n      <th>10</th>\n      <td>Civil Engineering</td>\n      <td>84600.0</td>\n    </tr>\n    <tr>\n      <th>4</th>\n      <td>Architecture</td>\n      <td>85400.0</td>\n    </tr>\n    <tr>\n      <th>48</th>\n      <td>Sociology</td>\n      <td>87300.0</td>\n    </tr>\n    <tr>\n      <th>29</th>\n      <td>Hospitality &amp; Tourism</td>\n      <td>88500.0</td>\n    </tr>\n    <tr>\n      <th>24</th>\n      <td>Geography</td>\n      <td>92000.0</td>\n    </tr>\n    <tr>\n      <th>46</th>\n      <td>Psychology</td>\n      <td>95400.0</td>\n    </tr>\n    <tr>\n      <th>12</th>\n      <td>Computer Engineering</td>\n      <td>95900.0</td>\n    </tr>\n    <tr>\n      <th>5</th>\n      <td>Art History</td>\n      <td>96200.0</td>\n    </tr>\n    <tr>\n      <th>1</th>\n      <td>Aerospace Engineering</td>\n      <td>96700.0</td>\n    </tr>\n    <tr>\n      <th>13</th>\n      <td>Computer Science</td>\n      <td>98000.0</td>\n    </tr>\n    <tr>\n      <th>6</th>\n      <td>Biology</td>\n      <td>98100.0</td>\n    </tr>\n    <tr>\n      <th>19</th>\n      <td>Electrical Engineering</td>\n      <td>98700.0</td>\n    </tr>\n    <tr>\n      <th>38</th>\n      <td>Mechanical Engineering</td>\n      <td>99300.0</td>\n    </tr>\n    <tr>\n      <th>20</th>\n      <td>English</td>\n      <td>99600.0</td>\n    </tr>\n    <tr>\n      <th>35</th>\n      <td>Management Information Systems (MIS)</td>\n      <td>100700.0</td>\n    </tr>\n    <tr>\n      <th>21</th>\n      <td>Film</td>\n      <td>102100.0</td>\n    </tr>\n    <tr>\n      <th>9</th>\n      <td>Chemistry</td>\n      <td>102700.0</td>\n    </tr>\n    <tr>\n      <th>3</th>\n      <td>Anthropology</td>\n      <td>104200.0</td>\n    </tr>\n    <tr>\n      <th>11</th>\n      <td>Communications</td>\n      <td>105500.0</td>\n    </tr>\n    <tr>\n      <th>34</th>\n      <td>Journalism</td>\n      <td>106600.0</td>\n    </tr>\n    <tr>\n      <th>39</th>\n      <td>Music</td>\n      <td>107300.0</td>\n    </tr>\n    <tr>\n      <th>7</th>\n      <td>Business Management</td>\n      <td>108200.0</td>\n    </tr>\n    <tr>\n      <th>0</th>\n      <td>Accounting</td>\n      <td>109800.0</td>\n    </tr>\n    <tr>\n      <th>25</th>\n      <td>Geology</td>\n      <td>111000.0</td>\n    </tr>\n    <tr>\n      <th>28</th>\n      <td>History</td>\n      <td>112000.0</td>\n    </tr>\n    <tr>\n      <th>2</th>\n      <td>Agriculture</td>\n      <td>113700.0</td>\n    </tr>\n    <tr>\n      <th>14</th>\n      <td>Construction</td>\n      <td>114700.0</td>\n    </tr>\n    <tr>\n      <th>30</th>\n      <td>Industrial Engineering</td>\n      <td>115900.0</td>\n    </tr>\n    <tr>\n      <th>16</th>\n      <td>Drama</td>\n      <td>116300.0</td>\n    </tr>\n    <tr>\n      <th>33</th>\n      <td>International Relations</td>\n      <td>118800.0</td>\n    </tr>\n    <tr>\n      <th>44</th>\n      <td>Physics</td>\n      <td>122000.0</td>\n    </tr>\n    <tr>\n      <th>8</th>\n      <td>Chemical Engineering</td>\n      <td>122100.0</td>\n    </tr>\n    <tr>\n      <th>45</th>\n      <td>Political Science</td>\n      <td>126800.0</td>\n    </tr>\n    <tr>\n      <th>42</th>\n      <td>Philosophy</td>\n      <td>132500.0</td>\n    </tr>\n    <tr>\n      <th>36</th>\n      <td>Marketing</td>\n      <td>132900.0</td>\n    </tr>\n    <tr>\n      <th>37</th>\n      <td>Math</td>\n      <td>137800.0</td>\n    </tr>\n    <tr>\n      <th>22</th>\n      <td>Finance</td>\n      <td>147800.0</td>\n    </tr>\n    <tr>\n      <th>17</th>\n      <td>Economics</td>\n      <td>159400.0</td>\n    </tr>\n  </tbody>\n</table>\n</div>"
     },
     "execution_count": 31,
     "metadata": {},
     "output_type": "execute_result"
    }
   ],
   "source": [
    "low_risk[['Undergraduate Major', 'Spread']]"
   ],
   "metadata": {
    "collapsed": false,
    "ExecuteTime": {
     "end_time": "2023-06-07T04:58:45.998620942Z",
     "start_time": "2023-06-07T04:58:45.958437209Z"
    }
   }
  },
  {
   "cell_type": "code",
   "execution_count": 32,
   "outputs": [
    {
     "data": {
      "text/plain": "           Undergraduate Major  Mid-Career 90th Percentile Salary\n49                     Spanish                            96400.0\n47                    Religion                            96400.0\n40                     Nursing                            98300.0\n41                   Nutrition                            99200.0\n27  Health Care Administration                           101000.0",
      "text/html": "<div>\n<style scoped>\n    .dataframe tbody tr th:only-of-type {\n        vertical-align: middle;\n    }\n\n    .dataframe tbody tr th {\n        vertical-align: top;\n    }\n\n    .dataframe thead th {\n        text-align: right;\n    }\n</style>\n<table border=\"1\" class=\"dataframe\">\n  <thead>\n    <tr style=\"text-align: right;\">\n      <th></th>\n      <th>Undergraduate Major</th>\n      <th>Mid-Career 90th Percentile Salary</th>\n    </tr>\n  </thead>\n  <tbody>\n    <tr>\n      <th>49</th>\n      <td>Spanish</td>\n      <td>96400.0</td>\n    </tr>\n    <tr>\n      <th>47</th>\n      <td>Religion</td>\n      <td>96400.0</td>\n    </tr>\n    <tr>\n      <th>40</th>\n      <td>Nursing</td>\n      <td>98300.0</td>\n    </tr>\n    <tr>\n      <th>41</th>\n      <td>Nutrition</td>\n      <td>99200.0</td>\n    </tr>\n    <tr>\n      <th>27</th>\n      <td>Health Care Administration</td>\n      <td>101000.0</td>\n    </tr>\n  </tbody>\n</table>\n</div>"
     },
     "execution_count": 32,
     "metadata": {},
     "output_type": "execute_result"
    }
   ],
   "source": [
    "high_potential = clean_df.sort_values('Mid-Career 90th Percentile Salary')\n",
    "high_potential[['Undergraduate Major', 'Mid-Career 90th Percentile Salary']].head()"
   ],
   "metadata": {
    "collapsed": false,
    "ExecuteTime": {
     "end_time": "2023-06-07T05:22:38.490827429Z",
     "start_time": "2023-06-07T05:22:38.460481128Z"
    }
   }
  },
  {
   "cell_type": "code",
   "execution_count": 33,
   "outputs": [
    {
     "data": {
      "text/plain": "     Undergraduate Major  Mid-Career 90th Percentile Salary\n17             Economics                           210000.0\n22               Finance                           195000.0\n8   Chemical Engineering                           194000.0\n37                  Math                           183000.0\n44               Physics                           178000.0",
      "text/html": "<div>\n<style scoped>\n    .dataframe tbody tr th:only-of-type {\n        vertical-align: middle;\n    }\n\n    .dataframe tbody tr th {\n        vertical-align: top;\n    }\n\n    .dataframe thead th {\n        text-align: right;\n    }\n</style>\n<table border=\"1\" class=\"dataframe\">\n  <thead>\n    <tr style=\"text-align: right;\">\n      <th></th>\n      <th>Undergraduate Major</th>\n      <th>Mid-Career 90th Percentile Salary</th>\n    </tr>\n  </thead>\n  <tbody>\n    <tr>\n      <th>17</th>\n      <td>Economics</td>\n      <td>210000.0</td>\n    </tr>\n    <tr>\n      <th>22</th>\n      <td>Finance</td>\n      <td>195000.0</td>\n    </tr>\n    <tr>\n      <th>8</th>\n      <td>Chemical Engineering</td>\n      <td>194000.0</td>\n    </tr>\n    <tr>\n      <th>37</th>\n      <td>Math</td>\n      <td>183000.0</td>\n    </tr>\n    <tr>\n      <th>44</th>\n      <td>Physics</td>\n      <td>178000.0</td>\n    </tr>\n  </tbody>\n</table>\n</div>"
     },
     "execution_count": 33,
     "metadata": {},
     "output_type": "execute_result"
    }
   ],
   "source": [
    "high_potential = clean_df.sort_values('Mid-Career 90th Percentile Salary', ascending=False)\n",
    "high_potential[['Undergraduate Major', 'Mid-Career 90th Percentile Salary']].head()"
   ],
   "metadata": {
    "collapsed": false,
    "ExecuteTime": {
     "end_time": "2023-06-07T05:23:17.216265381Z",
     "start_time": "2023-06-07T05:23:17.212195440Z"
    }
   }
  },
  {
   "cell_type": "code",
   "execution_count": 34,
   "outputs": [
    {
     "data": {
      "text/plain": "          Undergraduate Major  Spread  Starting Median Salary  \\\nGroup                                                           \nBusiness                   12      12                      12   \nHASS                       22      22                      22   \nSTEM                       16      16                      16   \n\n          Mid-Career Median Salary  Mid-Career 10th Percentile Salary  \\\nGroup                                                                   \nBusiness                        12                                 12   \nHASS                            22                                 22   \nSTEM                            16                                 16   \n\n          Mid-Career 90th Percentile Salary  \nGroup                                        \nBusiness                                 12  \nHASS                                     22  \nSTEM                                     16  ",
      "text/html": "<div>\n<style scoped>\n    .dataframe tbody tr th:only-of-type {\n        vertical-align: middle;\n    }\n\n    .dataframe tbody tr th {\n        vertical-align: top;\n    }\n\n    .dataframe thead th {\n        text-align: right;\n    }\n</style>\n<table border=\"1\" class=\"dataframe\">\n  <thead>\n    <tr style=\"text-align: right;\">\n      <th></th>\n      <th>Undergraduate Major</th>\n      <th>Spread</th>\n      <th>Starting Median Salary</th>\n      <th>Mid-Career Median Salary</th>\n      <th>Mid-Career 10th Percentile Salary</th>\n      <th>Mid-Career 90th Percentile Salary</th>\n    </tr>\n    <tr>\n      <th>Group</th>\n      <th></th>\n      <th></th>\n      <th></th>\n      <th></th>\n      <th></th>\n      <th></th>\n    </tr>\n  </thead>\n  <tbody>\n    <tr>\n      <th>Business</th>\n      <td>12</td>\n      <td>12</td>\n      <td>12</td>\n      <td>12</td>\n      <td>12</td>\n      <td>12</td>\n    </tr>\n    <tr>\n      <th>HASS</th>\n      <td>22</td>\n      <td>22</td>\n      <td>22</td>\n      <td>22</td>\n      <td>22</td>\n      <td>22</td>\n    </tr>\n    <tr>\n      <th>STEM</th>\n      <td>16</td>\n      <td>16</td>\n      <td>16</td>\n      <td>16</td>\n      <td>16</td>\n      <td>16</td>\n    </tr>\n  </tbody>\n</table>\n</div>"
     },
     "execution_count": 34,
     "metadata": {},
     "output_type": "execute_result"
    }
   ],
   "source": [
    "clean_df.groupby('Group').count()"
   ],
   "metadata": {
    "collapsed": false,
    "ExecuteTime": {
     "end_time": "2023-06-07T05:51:31.961746985Z",
     "start_time": "2023-06-07T05:51:31.893949618Z"
    }
   }
  },
  {
   "cell_type": "code",
   "execution_count": null,
   "outputs": [],
   "source": [],
   "metadata": {
    "collapsed": false
   }
  },
  {
   "cell_type": "code",
   "execution_count": 37,
   "outputs": [],
   "source": [
    "numeric_cols = clean_df.select_dtypes(include='number')\n",
    "mean_values = numeric_cols.groupby(clean_df['Group']).mean()"
   ],
   "metadata": {
    "collapsed": false,
    "ExecuteTime": {
     "end_time": "2023-06-07T05:55:38.903346857Z",
     "start_time": "2023-06-07T05:55:38.899056893Z"
    }
   }
  },
  {
   "cell_type": "code",
   "execution_count": null,
   "outputs": [],
   "source": [],
   "metadata": {
    "collapsed": false
   }
  },
  {
   "cell_type": "code",
   "execution_count": 39,
   "outputs": [
    {
     "data": {
      "text/plain": "Undergraduate Major                   object\nSpread                               float64\nStarting Median Salary               float64\nMid-Career Median Salary             float64\nMid-Career 10th Percentile Salary    float64\nMid-Career 90th Percentile Salary    float64\nGroup                                 object\ndtype: object"
     },
     "execution_count": 39,
     "metadata": {},
     "output_type": "execute_result"
    }
   ],
   "source": [
    "clean_df.dtypes"
   ],
   "metadata": {
    "collapsed": false,
    "ExecuteTime": {
     "end_time": "2023-06-07T05:57:33.575257110Z",
     "start_time": "2023-06-07T05:57:33.571013428Z"
    }
   }
  },
  {
   "cell_type": "code",
   "execution_count": 40,
   "outputs": [],
   "source": [
    "mean_income_by_group = df.groupby('Group')['Mid-Career Median Salary'].mean()\n"
   ],
   "metadata": {
    "collapsed": false,
    "ExecuteTime": {
     "end_time": "2023-06-07T06:01:28.286513299Z",
     "start_time": "2023-06-07T06:01:28.249527404Z"
    }
   }
  },
  {
   "cell_type": "code",
   "execution_count": 41,
   "outputs": [],
   "source": [
    "mean_income_by_group = df.groupby('Group')['Mid-Career Median Salary'].mean()"
   ],
   "metadata": {
    "collapsed": false,
    "ExecuteTime": {
     "end_time": "2023-06-07T06:01:40.724148735Z",
     "start_time": "2023-06-07T06:01:40.718621075Z"
    }
   }
  },
  {
   "cell_type": "code",
   "execution_count": 42,
   "outputs": [
    {
     "data": {
      "text/plain": "Group\nBusiness    75083.333333\nHASS        62968.181818\nSTEM        90812.500000\nName: Mid-Career Median Salary, dtype: float64"
     },
     "execution_count": 42,
     "metadata": {},
     "output_type": "execute_result"
    }
   ],
   "source": [
    "df.groupby('Group')['Mid-Career Median Salary'].mean()"
   ],
   "metadata": {
    "collapsed": false,
    "ExecuteTime": {
     "end_time": "2023-06-07T06:01:58.670904087Z",
     "start_time": "2023-06-07T06:01:58.632027187Z"
    }
   }
  },
  {
   "cell_type": "code",
   "execution_count": null,
   "outputs": [],
   "source": [],
   "metadata": {
    "collapsed": false
   }
  }
 ],
 "metadata": {
  "kernelspec": {
   "display_name": "Python 3",
   "language": "python",
   "name": "python3"
  },
  "language_info": {
   "codemirror_mode": {
    "name": "ipython",
    "version": 2
   },
   "file_extension": ".py",
   "mimetype": "text/x-python",
   "name": "python",
   "nbconvert_exporter": "python",
   "pygments_lexer": "ipython2",
   "version": "2.7.6"
  }
 },
 "nbformat": 4,
 "nbformat_minor": 0
}
